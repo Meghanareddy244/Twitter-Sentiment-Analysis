{
 "cells": [
  {
   "cell_type": "code",
   "execution_count": 15,
   "id": "ea4de488-e519-440f-9100-8939ae7e5f09",
   "metadata": {},
   "outputs": [],
   "source": [
    "import pandas as pd\n",
    "from sklearn.model_selection import train_test_split\n",
    "# Load training data\n",
    "train_data = pd.read_csv(\"C:\\\\Users\\\\megha\\\\Downloads\\\\0000000000002747_training_twitter_x_y_train.csv\")\n",
    "X_train = train_data['text']\n",
    "Y_train = train_data['airline_sentiment']\n",
    "# Load test data\n",
    "X_test = pd.read_csv('C:\\\\Users\\\\megha\\\\Downloads\\\\0000000000002747_test_twitter_x_test.csv')['text']\n",
    "\n"
   ]
  },
  {
   "cell_type": "code",
   "execution_count": 16,
   "id": "e0c5e3bf-8cc6-4ede-9c5a-73a8d69c02e6",
   "metadata": {},
   "outputs": [],
   "source": [
    "import nltk\n",
    "from nltk.corpus import stopwords\n",
    "#nltk.download('stopwords')\n",
    "stop=stopwords.words('english')\n",
    "def preprocess_data(text):\n",
    "    text=text.lower()\n",
    "    clean_text=' '.join([w for w in text.split() if not w in stop])\n",
    "    return clean_text\n",
    "X_train = X_train.apply(preprocess_data)\n",
    "X_test = X_test.apply(preprocess_data)"
   ]
  },
  {
   "cell_type": "code",
   "execution_count": 17,
   "id": "982e7712-c3bb-45f3-8817-ad2cf967f3eb",
   "metadata": {},
   "outputs": [],
   "source": [
    "from sklearn.feature_extraction.text import TfidfVectorizer\n",
    "# Convert text data to TF-IDF features\n",
    "\n",
    "vectorizer = TfidfVectorizer(max_features=5000)\n",
    "X_train_tfidf = vectorizer.fit_transform(X_train)\n",
    "X_test_tfidf = vectorizer.transform(X_test)\n",
    "from sklearn.linear_model import LogisticRegression\n",
    "from sklearn.pipeline import Pipeline\n",
    "from sklearn.metrics import accuracy_score\n",
    "\n",
    "# Create a pipeline with TF-IDF vectorizer and Logistic Regression\n",
    "model = LogisticRegression(max_iter=1000)\n",
    "\n",
    "# Train the model\n",
    "model.fit(X_train_tfidf, Y_train)\n",
    "# Predict sentiments for test data\n",
    "Y_pred = model.predict(X_test_tfidf)\n",
    "pd.DataFrame(Y_pred).to_csv('Twitter_predictions.csv', index=False, header=False)\n"
   ]
  },
  {
   "cell_type": "code",
   "execution_count": null,
   "id": "2ce601ee-c521-428e-9780-a5b843b12208",
   "metadata": {},
   "outputs": [],
   "source": []
  }
 ],
 "metadata": {
  "kernelspec": {
   "display_name": "Python 3 (ipykernel)",
   "language": "python",
   "name": "python3"
  },
  "language_info": {
   "codemirror_mode": {
    "name": "ipython",
    "version": 3
   },
   "file_extension": ".py",
   "mimetype": "text/x-python",
   "name": "python",
   "nbconvert_exporter": "python",
   "pygments_lexer": "ipython3",
   "version": "3.11.5"
  }
 },
 "nbformat": 4,
 "nbformat_minor": 5
}
